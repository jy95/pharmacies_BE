{
 "cells": [
  {
   "cell_type": "markdown",
   "metadata": {},
   "source": [
    "# Belgian pharmacies"
   ]
  },
  {
   "cell_type": "code",
   "execution_count": 1,
   "metadata": {},
   "outputs": [],
   "source": [
    "from datetime import datetime\n",
    "import orjson\n",
    "\n",
    "def read_json(path):\n",
    "    with open(str(path), encoding=\"utf8\") as file:\n",
    "        return orjson.loads(file.read())\n",
    "\n",
    "stats = read_json(\"stats.json\")\n",
    "pharmacies = read_json(\"last-pharmacies_enhancedVersion.json\")\n",
    "\n",
    "REGIONS = [\"Brussels\", \"Flanders\", \"Wallonia\"]\n",
    "# sort stats ASC\n",
    "convert_2_date = lambda x : datetime.strptime(x, \"%d-%m-%Y\")\n",
    "ENTRIES = sorted( [ ( convert_2_date(key), value ) for key, value in stats.items()], key=lambda x: x[0])"
   ]
  },
  {
   "cell_type": "markdown",
   "metadata": {},
   "source": [
    "## Map of pharmacies (AFMPS)"
   ]
  },
  {
   "cell_type": "code",
   "execution_count": 2,
   "metadata": {},
   "outputs": [
    {
     "data": {
      "application/vnd.jupyter.widget-view+json": {
       "model_id": "8ff37448d6824632afeaf87c3c8a685e",
       "version_major": 2,
       "version_minor": 0
      },
      "text/plain": [
       "Map(center=[50.8503396, 4.3517103], controls=(ZoomControl(options=['position', 'zoom_in_text', 'zoom_in_title'…"
      ]
     },
     "metadata": {},
     "output_type": "display_data"
    }
   ],
   "source": [
    "from ipyleaflet import Map, Marker, MarkerCluster, AwesomeIcon, FullScreenControl, SearchControl\n",
    "from ipywidgets import HTML\n",
    "\n",
    "center = (50.8503396, 4.3517103) # Brussels\n",
    "m = Map(center=center, zoom=10)\n",
    "\n",
    "# Icons\n",
    "icon_active = AwesomeIcon(name='house-chimney-medical', marker_color='blue', icon_color='darkgreen')\n",
    "icon_closed = AwesomeIcon(name='house-medical-circle-xmark', marker_color='red', icon_color='darkgreen')\n",
    "\n",
    "# To detect which languages to use for opening hours\n",
    "between = lambda zipCode, start, end : start <= zipCode <= end\n",
    "BXL = lambda zipCode : between(zipCode, 1000, 1299)\n",
    "GER = lambda zipCode : between(zipCode, 4700, 4791)\n",
    "VL = lambda zipCode : between(zipCode, 1500, 3999) or between(zipCode, 8000, 9999)\n",
    "def which_language(zipCode):\n",
    "  if BXL(zipCode):\n",
    "    return [\"fr\", \"nl\"]\n",
    "  elif VL(zipCode):\n",
    "    return [\"nl\"]\n",
    "  elif GER(zipCode):\n",
    "    return [\"de\"]\n",
    "  else:\n",
    "    return [\"fr\"]\n",
    "\n",
    "# As my output always provide the opening hours in the 3 languages, at least one match\n",
    "def generate_opening_hours_table(zipCode, opening_hours):\n",
    "  table = \"<table><tr><th>Opening hours</th><th></th></tr>\"\n",
    "  languages = which_language(zipCode)\n",
    "  for row in opening_hours:\n",
    "    if row[\"lang\"] in languages:\n",
    "      table += \"<tr><td>{}</td><td>{}</td></tr>\".format(row[\"lang\"], row[\"value\"])\n",
    "  table += \"</table>\"\n",
    "  return table\n",
    "\n",
    "def generate_contact_table(contact_dict):\n",
    "  table = \"<table><tr><th>Means of contact</th><th></th></tr>\"\n",
    "  for key, val in contact_dict.items():\n",
    "    table += \"<tr><td>{}</td><td>{}</td></tr>\".format(key, \" \".join(val))\n",
    "  table += \"</table>\"\n",
    "  return table\n",
    "\n",
    "def create_popup(pharmacy):\n",
    "  common_val = \"<b>{}</b><br>{}<br>{} {}\".format(pharmacy[\"name\"], pharmacy[\"textual_address\"], pharmacy[\"zipCode\"], pharmacy[\"municipality\"])\n",
    "  opening_hours = generate_opening_hours_table(pharmacy[\"zipCode\"],pharmacy[\"opening_hours\"]) if \"opening_hours\" in pharmacy and len(pharmacy[\"opening_hours\"]) > 1 else \"\"\n",
    "  contacts = generate_contact_table(pharmacy[\"contact\"]) if \"contact\" in pharmacy and len(pharmacy[\"contact\"]) > 0 else \"\"\n",
    "  value = \"{}{}{}\".format(common_val, opening_hours, contacts)\n",
    "\n",
    "  return HTML(\n",
    "    value=value,\n",
    "    placeholder = \"\",\n",
    "    description = \"\"\n",
    "  )\n",
    "\n",
    "def create_marker(pharmacy):\n",
    "  # TODO later change that trade-off\n",
    "  coords = pharmacy[\"geo\"][1]\n",
    "  # constructor\n",
    "  return Marker(\n",
    "     icon = icon_active if pharmacy[\"status\"].casefold() == \"active\" else icon_closed,\n",
    "     title = pharmacy[\"name\"],\n",
    "     alt = pharmacy[\"name\"],\n",
    "     location = (coords[\"latitude\"], coords[\"longitude\"]),\n",
    "     draggable = False,\n",
    "     # Text when clicked on marker\n",
    "     popup = create_popup(pharmacy)\n",
    "  )\n",
    "\n",
    "# Create markers\n",
    "markers = [create_marker(pharmacy) for pharmacy in pharmacies]\n",
    "\n",
    "marker_cluster = MarkerCluster(markers=markers)\n",
    "m.add_layer(marker_cluster)\n",
    "m.add_control(FullScreenControl())\n",
    "m.add_control(SearchControl(\n",
    "  position=\"topleft\",\n",
    "  url='https://nominatim.openstreetmap.org/search?format=json&q={s}',\n",
    "  zoom=12,\n",
    "  marker=Marker(icon=AwesomeIcon(name=\"crosshairs\", marker_color='green', icon_color='darkgreen'), draggable=False)\n",
    "))\n",
    "\n",
    "m"
   ]
  },
  {
   "cell_type": "markdown",
   "metadata": {},
   "source": [
    "## Pharmacies by region (most recent data only)"
   ]
  },
  {
   "cell_type": "code",
   "execution_count": null,
   "metadata": {},
   "outputs": [],
   "source": [
    "import matplotlib.pyplot as plt\n",
    "\n",
    "most_recent = ENTRIES[-1]\n",
    "\n",
    "labels = REGIONS\n",
    "active_pharmacies = [ most_recent[1][region][\"active_pharmacies\"] for region in REGIONS]\n",
    "inactive_pharmacies = [ most_recent[1][region][\"temporarily_suspended_pharmacies\"] for region in REGIONS]\n",
    "\n",
    "fig, ax = plt.subplots()\n",
    "\n",
    "ax.bar(labels, active_pharmacies, label='Active pharmacies')\n",
    "ax.bar(labels, inactive_pharmacies, bottom=active_pharmacies, label='Temporarily suspended pharmacies')\n",
    "\n",
    "ax.set_ylabel('Number of pharmacies')\n",
    "ax.set_title('Pharmacies by region (most recent data only)')\n",
    "ax.legend()\n",
    "\n",
    "plt.show()"
   ]
  }
 ],
 "metadata": {
  "interpreter": {
   "hash": "f7dc0d176f87219403979d7cd137b57cd3ffec2cf57047da7e985ab7d5f0dd4d"
  },
  "kernelspec": {
   "display_name": "Python 3.8.10 ('env': venv)",
   "language": "python",
   "name": "python3"
  },
  "language_info": {
   "codemirror_mode": {
    "name": "ipython",
    "version": 3
   },
   "file_extension": ".py",
   "mimetype": "text/x-python",
   "name": "python",
   "nbconvert_exporter": "python",
   "pygments_lexer": "ipython3",
   "version": "3.8.10"
  },
  "orig_nbformat": 4
 },
 "nbformat": 4,
 "nbformat_minor": 2
}
