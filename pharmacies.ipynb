{
 "cells": [
  {
   "cell_type": "markdown",
   "metadata": {},
   "source": [
    "# Belgian pharmacies"
   ]
  },
  {
   "cell_type": "code",
   "execution_count": 2,
   "metadata": {},
   "outputs": [],
   "source": [
    "import json\n",
    "from datetime import datetime\n",
    "\n",
    "stats = json.load(open(\"stats.json\"))\n",
    "pharmacies = json.load(open(\"last-pharmacies.json\"))\n",
    "\n",
    "REGIONS = [\"Brussels\", \"Flanders\", \"Wallonia\"]\n",
    "# sort stats ASC\n",
    "convert_2_date = lambda x : datetime.strptime(x, \"%d-%m-%Y\")\n",
    "ENTRIES = sorted( [ ( convert_2_date(key), value ) for key, value in stats.items()], key=lambda x: x[0])"
   ]
  },
  {
   "cell_type": "markdown",
   "metadata": {},
   "source": [
    "## Map of pharmacies"
   ]
  },
  {
   "cell_type": "code",
   "execution_count": 5,
   "metadata": {},
   "outputs": [
    {
     "data": {
      "application/vnd.jupyter.widget-view+json": {
       "model_id": "563f532676c543f886baa22f3b464d41",
       "version_major": 2,
       "version_minor": 0
      },
      "text/plain": [
       "Map(center=[50.8503396, 4.3517103], controls=(ZoomControl(options=['position', 'zoom_in_text', 'zoom_in_title'…"
      ]
     },
     "metadata": {},
     "output_type": "display_data"
    }
   ],
   "source": [
    "from ipyleaflet import Map, Marker, MarkerCluster, AwesomeIcon, FullScreenControl, SearchControl\n",
    "from ipywidgets import HTML\n",
    "\n",
    "center = (50.8503396, 4.3517103) # Brussels\n",
    "m = Map(center=center)\n",
    "\n",
    "# Icons\n",
    "icon_active = AwesomeIcon(name='house-chimney-medical', marker_color='blue', icon_color='darkgreen')\n",
    "icon_closed = AwesomeIcon(name='house-medical-circle-xmark', marker_color='red', icon_color='darkgreen')\n",
    "\n",
    "# Create markers\n",
    "markers = []\n",
    "for pharmacy in pharmacies:\n",
    "    icon_state = icon_active if pharmacy[\"status\"].casefold() == \"active\" else icon_closed\n",
    "    # TODO later change that trade-off\n",
    "    geo = pharmacy[\"geo\"][1]\n",
    "    coords = (geo[\"latitude\"], geo[\"longitude\"])\n",
    "    name = pharmacy[\"name\"]\n",
    "    address = pharmacy[\"textual_address\"]\n",
    "    zipCode = pharmacy[\"zipCode\"]\n",
    "    municipality = pharmacy[\"municipality\"]\n",
    "    # Text when clicked on marker\n",
    "    message = HTML()\n",
    "    message.value = \"<b>{}</b><br>{}<br>{} {}\".format(name, address, zipCode, municipality)\n",
    "    message.placeholder = \"\"\n",
    "    message.description = \"\"\n",
    "    marker = Marker(location=coords,icon=icon_state, title=name, alt=name, draggable=False)\n",
    "    marker.popup = message\n",
    "    markers.append(marker)\n",
    "\n",
    "marker_cluster = MarkerCluster(markers=markers)\n",
    "m.add_layer(marker_cluster)\n",
    "m.add_control(FullScreenControl())\n",
    "m.add_control(SearchControl(\n",
    "  position=\"topleft\",\n",
    "  url='https://nominatim.openstreetmap.org/search?format=json&q={s}',\n",
    "  zoom=5,\n",
    "  marker=Marker(icon=AwesomeIcon(name=\"crosshairs\", marker_color='green', icon_color='darkgreen'), draggable=False)\n",
    "))\n",
    "\n",
    "m"
   ]
  },
  {
   "cell_type": "markdown",
   "metadata": {},
   "source": [
    "## Pharmacies by region (most recent data only)"
   ]
  },
  {
   "cell_type": "code",
   "execution_count": 6,
   "metadata": {},
   "outputs": [
    {
     "data": {
      "image/png": "[encoded data removed]",
      "text/plain": [
       "<Figure size 432x288 with 1 Axes>"
      ]
     },
     "metadata": {
      "needs_background": "light"
     },
     "output_type": "display_data"
    }
   ],
   "source": [
    "import matplotlib.pyplot as plt\n",
    "\n",
    "most_recent = ENTRIES[-1]\n",
    "\n",
    "labels = REGIONS\n",
    "active_pharmacies = [ most_recent[1][region][\"active_pharmacies\"] for region in REGIONS]\n",
    "inactive_pharmacies = [ most_recent[1][region][\"temporarily_suspended_pharmacies\"] for region in REGIONS]\n",
    "\n",
    "fig, ax = plt.subplots()\n",
    "\n",
    "ax.bar(labels, active_pharmacies, label='Active pharmacies')\n",
    "ax.bar(labels, inactive_pharmacies, bottom=active_pharmacies, label='Temporarily suspended pharmacies')\n",
    "\n",
    "ax.set_ylabel('Number of pharmacies')\n",
    "ax.set_title('Pharmacies by region (most recent data only)')\n",
    "ax.legend()\n",
    "\n",
    "plt.show()"
   ]
  }
 ],
 "metadata": {
  "interpreter": {
   "hash": "f7dc0d176f87219403979d7cd137b57cd3ffec2cf57047da7e985ab7d5f0dd4d"
  },
  "kernelspec": {
   "display_name": "Python 3.8.10 ('env': venv)",
   "language": "python",
   "name": "python3"
  },
  "language_info": {
   "codemirror_mode": {
    "name": "ipython",
    "version": 3
   },
   "file_extension": ".py",
   "mimetype": "text/x-python",
   "name": "python",
   "nbconvert_exporter": "python",
   "pygments_lexer": "ipython3",
   "version": "3.8.10"
  },
  "orig_nbformat": 4
 },
 "nbformat": 4,
 "nbformat_minor": 2
}
