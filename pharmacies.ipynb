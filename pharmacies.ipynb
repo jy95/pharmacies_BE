{
 "cells": [
  {
   "cell_type": "markdown",
   "metadata": {},
   "source": [
    "# Belgian pharmacies"
   ]
  },
  {
   "cell_type": "code",
   "execution_count": 1,
   "metadata": {},
   "outputs": [],
   "source": [
    "import json\n",
    "from ipyleaflet import Map, Marker, MarkerCluster, AwesomeIcon\n",
    "from ipywidgets import HTML\n",
    "stats = json.load(open(\"stats.json\"))\n",
    "pharmacies = json.load(open(\"last-pharmacies.json\"))"
   ]
  },
  {
   "cell_type": "markdown",
   "metadata": {},
   "source": [
    "## Map of pharmacies"
   ]
  },
  {
   "cell_type": "code",
   "execution_count": 6,
   "metadata": {},
   "outputs": [
    {
     "data": {
      "application/vnd.jupyter.widget-view+json": {
       "model_id": "24e127c078f44a5689281109e5cfd333",
       "version_major": 2,
       "version_minor": 0
      },
      "text/plain": [
       "Map(center=[50.8503396, 4.3517103], controls=(ZoomControl(options=['position', 'zoom_in_text', 'zoom_in_title'…"
      ]
     },
     "metadata": {},
     "output_type": "display_data"
    }
   ],
   "source": [
    "center = (50.8503396, 4.3517103) # Brussels\n",
    "m = Map(center=center)\n",
    "\n",
    "# Icons\n",
    "icon_active = AwesomeIcon(name='house-chimney-medical', marker_color='blue', icon_color='darkgreen')\n",
    "icon_closed = AwesomeIcon(name='house-medical-circle-xmark', marker_color='red', icon_color='darkgreen')\n",
    "\n",
    "# Create markers\n",
    "markers = []\n",
    "for pharmacy in pharmacies:\n",
    "    icon_state = icon_active if pharmacy[\"status\"].casefold() == \"active\" else icon_closed\n",
    "    # TODO later change that trade-off\n",
    "    geo = pharmacy[\"geo\"][1]\n",
    "    coords = (geo[\"latitude\"], geo[\"longitude\"])\n",
    "    name = pharmacy[\"name\"]\n",
    "    address = pharmacy[\"textual_address\"]\n",
    "    zipCode = pharmacy[\"zipCode\"]\n",
    "    municipality = pharmacy[\"municipality\"]\n",
    "    # Text when clicked on marker\n",
    "    message = HTML()\n",
    "    message.value = \"<b>{}</b><br>{}<br>{} {}\".format(name, address, zipCode, municipality)\n",
    "    message.placeholder = \"\"\n",
    "    message.description = \"\"\n",
    "    marker = Marker(location=coords,icon=icon_state, title=name, alt=name, draggable=False)\n",
    "    marker.popup = message\n",
    "    markers.append(marker)\n",
    "\n",
    "marker_cluster = MarkerCluster(markers=markers)\n",
    "m.add_layer(marker_cluster)\n",
    "\n",
    "m"
   ]
  }
 ],
 "metadata": {
  "interpreter": {
   "hash": "f7dc0d176f87219403979d7cd137b57cd3ffec2cf57047da7e985ab7d5f0dd4d"
  },
  "kernelspec": {
   "display_name": "Python 3.8.10 ('env': venv)",
   "language": "python",
   "name": "python3"
  },
  "language_info": {
   "codemirror_mode": {
    "name": "ipython",
    "version": 3
   },
   "file_extension": ".py",
   "mimetype": "text/x-python",
   "name": "python",
   "nbconvert_exporter": "python",
   "pygments_lexer": "ipython3",
   "version": "3.8.10"
  },
  "orig_nbformat": 4
 },
 "nbformat": 4,
 "nbformat_minor": 2
}
